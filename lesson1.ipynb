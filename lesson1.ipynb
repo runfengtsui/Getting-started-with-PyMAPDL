{
 "cells": [
  {
   "cell_type": "markdown",
   "metadata": {},
   "source": [
    "# Parametric model of plate with multiple holes"
   ]
  },
  {
   "cell_type": "markdown",
   "metadata": {},
   "source": [
    "### Objective:\n",
    "In this example we'll setup a parametric model in PyMAPDL for a rectangular plate with multiple holes. The model is setup such that one can change the dimensions of the plate, the number of holes and their radius, the material properties and the pressure applied.\n",
    "\n",
    "The learning objectives of this demo are:\n",
    "* Launch PyMAPDL on a local machine\n",
    "* Setup and solve a parametric model using PyMAPDL\n",
    "* Interactive plotting of CAD, mesh, and kresults in Pythonic interface.\n",
    "\n",
    "#### Model parameters:\n",
    "* Length, width and depth of the plate\n",
    "* Number of holes\n",
    "* Raidus of the holes\n",
    "* Material properties (Young's modulus and Poisson's ratio)\n",
    "* Applied pressure"
   ]
  },
  {
   "cell_type": "markdown",
   "metadata": {},
   "source": [
    "# Step 1 - define all parameters"
   ]
  },
  {
   "cell_type": "code",
   "execution_count": 1,
   "metadata": {},
   "outputs": [],
   "source": [
    "# All units in (m, Kg, s)\n",
    "LENGTH = 5\n",
    "WIDTH = 2.5\n",
    "DEPTH = 0.1\n",
    "RADIUS = 0.5\n",
    "NUM = 3\n",
    "\n",
    "E = 2e11\n",
    "NU = 0.27\n",
    "\n",
    "PRESSURE = 1000"
   ]
  },
  {
   "cell_type": "markdown",
   "metadata": {},
   "source": [
    "# Step 2 - launch MAPDL and create geometry"
   ]
  },
  {
   "cell_type": "code",
   "execution_count": 2,
   "metadata": {},
   "outputs": [
    {
     "name": "stderr",
     "output_type": "stream",
     "text": [
      "e:\\ansys\\test\\.venv\\Lib\\site-packages\\pyvista\\core\\pointset.py:843: PyVistaDeprecationWarning: `PolyData` constructor parameter `n_faces` is deprecated and no longer used.\n",
      "  warnings.warn(\n"
     ]
    },
    {
     "data": {
      "application/vnd.jupyter.widget-view+json": {
       "model_id": "f36c87934b014558b15675f3c0a79e5b",
       "version_major": 2,
       "version_minor": 0
      },
      "text/plain": [
       "Widget(value='<iframe src=\"http://localhost:11862/index.html?ui=P_0x2467b52a0f0_1&reconnect=auto\" class=\"pyvis…"
      ]
     },
     "metadata": {},
     "output_type": "display_data"
    }
   ],
   "source": [
    "from ansys.mapdl.core import launch_mapdl\n",
    "mapdl = launch_mapdl()\n",
    "\n",
    "mapdl.clear()\n",
    "mapdl.prep7()\n",
    "mapdl.block(0, LENGTH, 0, WIDTH, 0, DEPTH)\n",
    "for i in range(1, NUM+1):\n",
    "    mapdl.cyl4(i*LENGTH/(NUM+1), WIDTH/2, RADIUS, '', '', '', 2*DEPTH)\n",
    "\n",
    "mapdl.vsbv(1, 'all')\n",
    "mapdl.vplot('all')"
   ]
  },
  {
   "cell_type": "markdown",
   "metadata": {},
   "source": [
    "# Step 3 - define material properties, mesh attributes and generate mesh"
   ]
  },
  {
   "cell_type": "code",
   "execution_count": 3,
   "metadata": {},
   "outputs": [
    {
     "data": {
      "application/vnd.jupyter.widget-view+json": {
       "model_id": "13a4bb11731940c59a19d8e80d90f67d",
       "version_major": 2,
       "version_minor": 0
      },
      "text/plain": [
       "Widget(value='<iframe src=\"http://localhost:11862/index.html?ui=P_0x2467d48c320_2&reconnect=auto\" class=\"pyvis…"
      ]
     },
     "metadata": {},
     "output_type": "display_data"
    }
   ],
   "source": [
    "mapdl.lesize(\"ALL\", 0.15, layer1=1)\n",
    "\n",
    "mapdl.mp('ex', 1, E)\n",
    "mapdl.mp('nuxy', 1, NU)\n",
    "\n",
    "mapdl.et(1, 'SOLID186')\n",
    "mapdl.mshape(1, \"3D\")\n",
    "mapdl.mshkey(0)\n",
    "mapdl.vmesh('all')\n",
    "mapdl.eplot()"
   ]
  },
  {
   "cell_type": "markdown",
   "metadata": {},
   "source": [
    "# Step 4 - apply loads and boundary conditions"
   ]
  },
  {
   "cell_type": "code",
   "execution_count": 4,
   "metadata": {},
   "outputs": [
    {
     "data": {
      "text/plain": [
       "***** ROUTINE COMPLETED *****  CP =         0.531"
      ]
     },
     "execution_count": 4,
     "metadata": {},
     "output_type": "execute_result"
    }
   ],
   "source": [
    "mapdl.nsel('s', 'loc', 'x', 0)\n",
    "mapdl.d('all', 'all', 0)\n",
    "\n",
    "mapdl.nsel('s', 'loc', 'x', LENGTH)\n",
    "mapdl.sf('all', 'pres', PRESSURE)\n",
    "\n",
    "mapdl.allsel()\n",
    "mapdl.finish()"
   ]
  },
  {
   "cell_type": "markdown",
   "metadata": {},
   "source": [
    "# Step 5 - solve the static problem"
   ]
  },
  {
   "cell_type": "code",
   "execution_count": 5,
   "metadata": {},
   "outputs": [
    {
     "data": {
      "text/plain": [
       "FINISH SOLUTION PROCESSING\n",
       "\n",
       "\n",
       " ***** ROUTINE COMPLETED *****  CP =         0.797"
      ]
     },
     "execution_count": 5,
     "metadata": {},
     "output_type": "execute_result"
    }
   ],
   "source": [
    "mapdl.slashsolu()\n",
    "mapdl.solve()\n",
    "mapdl.finish()"
   ]
  },
  {
   "cell_type": "markdown",
   "metadata": {},
   "source": [
    "# Step 6 - plot the stress contours for the model"
   ]
  },
  {
   "cell_type": "code",
   "execution_count": 6,
   "metadata": {},
   "outputs": [
    {
     "data": {
      "application/vnd.jupyter.widget-view+json": {
       "model_id": "eed3d8eed7bb4976ab80037ec033180e",
       "version_major": 2,
       "version_minor": 0
      },
      "text/plain": [
       "Widget(value='<iframe src=\"http://localhost:11862/index.html?ui=P_0x2467d4fb290_3&reconnect=auto\" class=\"pyvis…"
      ]
     },
     "metadata": {},
     "output_type": "display_data"
    }
   ],
   "source": [
    "result = mapdl.result\n",
    "result.plot_principal_nodal_stress(0, 'seqv', background='w', show_edges=True, text_color='k', add_text=True)"
   ]
  },
  {
   "cell_type": "markdown",
   "metadata": {},
   "source": [
    "# Step 7 - exit MAPDL"
   ]
  },
  {
   "cell_type": "code",
   "execution_count": 7,
   "metadata": {},
   "outputs": [],
   "source": [
    "mapdl.exit()"
   ]
  }
 ],
 "metadata": {
  "kernelspec": {
   "display_name": ".venv",
   "language": "python",
   "name": "python3"
  },
  "language_info": {
   "codemirror_mode": {
    "name": "ipython",
    "version": 3
   },
   "file_extension": ".py",
   "mimetype": "text/x-python",
   "name": "python",
   "nbconvert_exporter": "python",
   "pygments_lexer": "ipython3",
   "version": "3.12.5"
  }
 },
 "nbformat": 4,
 "nbformat_minor": 2
}
